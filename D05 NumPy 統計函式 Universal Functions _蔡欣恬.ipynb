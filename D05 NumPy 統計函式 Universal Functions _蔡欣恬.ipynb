{
 "cells": [
  {
   "cell_type": "markdown",
   "metadata": {},
   "source": [
    "作業目標\n",
    "計算有缺失值的資料，統計量實作\n",
    "作業重點\n",
    "當遇到缺失值有函式可以處理，不須額外寫程式刪除\n",
    "計算統計量時不能出現缺失值\n",
    "\n",
    "題目:\n",
    "english_score = np.array([55,89,76,65,48,70])\n",
    "math_score = np.array([60,85,60,68,np.nan,60])\n",
    "chinese_score = np.array([65,90,82,72,66,77])\n",
    "上3列共六位同學的英文、數學、國文成績，第一個元素代表第一位同學，舉例第一位同學英文55分、數學60分、國文65分，今天第五位同學因某原因沒來考試，導致數學成績缺值，運用上列數據回答下列問題。\n",
    "\n",
    "請計算各科成績平均、最大值、最小值、標準差，其中數學缺一筆資料可忽略?\n",
    "第五位同學補考數學後成績為55，請計算補考後數學成績平均、最大值、最小值、標準差?\n",
    "用補考後資料找出與國文成績相關係數最高的學科?\n"
   ]
  },
  {
   "cell_type": "code",
   "execution_count": 1,
   "metadata": {},
   "outputs": [],
   "source": [
    "import numpy as np"
   ]
  },
  {
   "cell_type": "code",
   "execution_count": 17,
   "metadata": {},
   "outputs": [],
   "source": [
    "english_score = np.array([55,89,76,65,48,70])\n",
    "math_score = np.array([60,85,60,68,np.nan,60])\n",
    "chinese_score = np.array([65,90,82,72,66,77])"
   ]
  },
  {
   "cell_type": "code",
   "execution_count": 18,
   "metadata": {},
   "outputs": [
    {
     "name": "stdout",
     "output_type": "stream",
     "text": [
      "67.16666666666667 , 66.6 , 75.33333333333333\n"
     ]
    }
   ],
   "source": [
    "#1.1 各科成績平均，忽略NAN(NOT A NUMER)\n",
    "english_score_ans=np.nanmean(english_score)\n",
    "math_score_ans=np.nanmean(math_score )\n",
    "chinese_score_ans=np.nanmean(chinese_score)\n",
    "print(english_score_ans,\",\",math_score_ans,\",\",chinese_score_ans)"
   ]
  },
  {
   "cell_type": "code",
   "execution_count": 19,
   "metadata": {},
   "outputs": [
    {
     "name": "stdout",
     "output_type": "stream",
     "text": [
      "89 , 85.0 , 90\n"
     ]
    }
   ],
   "source": [
    "#1.2 最大值\n",
    "english_score_ans =np.nanmax(english_score)\n",
    "math_score_ans=np.nanmax(math_score )\n",
    "chinese_score_ans=np.nanmax(chinese_score)\n",
    "print(english_score_ans,\",\",math_score_ans,\",\",chinese_score_ans)"
   ]
  },
  {
   "cell_type": "code",
   "execution_count": 20,
   "metadata": {},
   "outputs": [
    {
     "name": "stdout",
     "output_type": "stream",
     "text": [
      "48 , 60.0 , 65\n"
     ]
    }
   ],
   "source": [
    "#1.3 最小值\n",
    "english_score_ans=np.nanmin(english_score)\n",
    "math_score_ans=np.nanmin(math_score )\n",
    "chinese_score_ans=np.nanmin(chinese_score)\n",
    "print(english_score_ans,\",\",math_score_ans,\",\",chinese_score_ans)"
   ]
  },
  {
   "cell_type": "code",
   "execution_count": 21,
   "metadata": {},
   "outputs": [
    {
     "name": "stdout",
     "output_type": "stream",
     "text": [
      "13.433995020924426 , 9.707728879609279 , 8.825468196582484\n"
     ]
    }
   ],
   "source": [
    "#1.4 標準差\n",
    "english_score_ans =np.nanstd(english_score)\n",
    "math_score_ans=np.nanstd(math_score )\n",
    "chinese_score_ans=np.nanstd(chinese_score)\n",
    "print(english_score_ans,\",\",math_score_ans,\",\",chinese_score_ans)"
   ]
  },
  {
   "cell_type": "code",
   "execution_count": 22,
   "metadata": {},
   "outputs": [],
   "source": [
    "#2. 第五位同學補考數學後成績為55，\n",
    "math_score[4]=55"
   ]
  },
  {
   "cell_type": "code",
   "execution_count": 23,
   "metadata": {},
   "outputs": [
    {
     "data": {
      "text/plain": [
       "64.66666666666667"
      ]
     },
     "execution_count": 23,
     "metadata": {},
     "output_type": "execute_result"
    }
   ],
   "source": [
    "#2.1請計算補考後數學成績平均\n",
    "np.nanmean(math_score )"
   ]
  },
  {
   "cell_type": "code",
   "execution_count": 24,
   "metadata": {},
   "outputs": [
    {
     "data": {
      "text/plain": [
       "85.0"
      ]
     },
     "execution_count": 24,
     "metadata": {},
     "output_type": "execute_result"
    }
   ],
   "source": [
    "#2.2請計算補考後數學成績最大值\n",
    "np.nanmax(math_score )"
   ]
  },
  {
   "cell_type": "code",
   "execution_count": 25,
   "metadata": {},
   "outputs": [
    {
     "data": {
      "text/plain": [
       "55.0"
      ]
     },
     "execution_count": 25,
     "metadata": {},
     "output_type": "execute_result"
    }
   ],
   "source": [
    "#2.3請計算補考後數學成績最小值\n",
    "np.nanmin(math_score )"
   ]
  },
  {
   "cell_type": "code",
   "execution_count": 26,
   "metadata": {},
   "outputs": [
    {
     "data": {
      "text/plain": [
       "9.860132971832694"
      ]
     },
     "execution_count": 26,
     "metadata": {},
     "output_type": "execute_result"
    }
   ],
   "source": [
    "#2.4請計算補考後數學成績標準差\n",
    "np.nanstd(math_score )"
   ]
  },
  {
   "cell_type": "code",
   "execution_count": 32,
   "metadata": {},
   "outputs": [
    {
     "name": "stdout",
     "output_type": "stream",
     "text": [
      "english [[1.         0.74056803]\n",
      " [0.74056803 1.        ]]\n",
      "math [[1.         0.97792828]\n",
      " [0.97792828 1.        ]]\n"
     ]
    }
   ],
   "source": [
    "#3. 用補考後資料找出與國文成績相關係數最高的學科?\n",
    "#國文與英文相關係數較高\n",
    "english=np.corrcoef(chinese_score,math_score)\n",
    "math=np.corrcoef(chinese_score,english_score)\n",
    "print(\"english\",english)\n",
    "print(\"math\",math)"
   ]
  },
  {
   "cell_type": "code",
   "execution_count": null,
   "metadata": {},
   "outputs": [],
   "source": []
  }
 ],
 "metadata": {
  "kernelspec": {
   "display_name": "Python 3",
   "language": "python",
   "name": "python3"
  },
  "language_info": {
   "codemirror_mode": {
    "name": "ipython",
    "version": 3
   },
   "file_extension": ".py",
   "mimetype": "text/x-python",
   "name": "python",
   "nbconvert_exporter": "python",
   "pygments_lexer": "ipython3",
   "version": "3.6.4"
  }
 },
 "nbformat": 4,
 "nbformat_minor": 2
}
